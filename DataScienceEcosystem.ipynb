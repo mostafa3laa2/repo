{
 "cells": [
  {
   "cell_type": "markdown",
   "id": "85ef0a88-cea7-4372-8812-2a93b0de339f",
   "metadata": {},
   "source": [
    "# Data Science Tools and Ecosystem "
   ]
  },
  {
   "cell_type": "markdown",
   "id": "58433c14-2b76-4b7e-9aa4-b434ab75af54",
   "metadata": {},
   "source": [
    "***In this notebook, Data Science Tools and Ecosystem are summarized.***"
   ]
  },
  {
   "cell_type": "markdown",
   "id": "c60ee6c8-c48f-427c-9c2d-17bc05b9c946",
   "metadata": {},
   "source": [
    "*Some of the popular languages that Data Scientists use are:*\n",
    "1. Python\n",
    "2. R\n",
    "3. C++\n",
    "4. java"
   ]
  },
  {
   "cell_type": "markdown",
   "id": "97ae45c5-1712-40ea-b109-8fe3f743b81f",
   "metadata": {},
   "source": [
    "*Some of the commonly used libraries used by Data Scientists include:*\n",
    "1. ggplot2\n",
    "2. pandas\n",
    "3. numpy"
   ]
  },
  {
   "cell_type": "markdown",
   "id": "72b76aa4-d504-48d9-8f68-88fb6a253c71",
   "metadata": {},
   "source": [
    "|Data Science Tools|\n",
    "|------------------|\n",
    "|jupyter notebook|\n",
    "|RStdio|\n",
    "|Git & Github|"
   ]
  },
  {
   "cell_type": "markdown",
   "id": "db021c60-560b-45b3-8443-c1ba1c58f4b6",
   "metadata": {},
   "source": [
    "### Below are a few examples of evaluating arithmetic expressions in Python\n"
   ]
  },
  {
   "cell_type": "code",
   "execution_count": 4,
   "id": "c968eb80-0890-430f-adc6-5405e8e13930",
   "metadata": {},
   "outputs": [
    {
     "data": {
      "text/plain": [
       "17"
      ]
     },
     "execution_count": 4,
     "metadata": {},
     "output_type": "execute_result"
    }
   ],
   "source": [
    "#This is a simple arithmetic expression to multiply and then add integers.\n",
    "(3*4)+5"
   ]
  },
  {
   "cell_type": "code",
   "execution_count": 5,
   "id": "4761d479-61ca-4d7c-b9c7-d2dda88f9a24",
   "metadata": {},
   "outputs": [
    {
     "data": {
      "text/plain": [
       "3.3333333333333335"
      ]
     },
     "execution_count": 5,
     "metadata": {},
     "output_type": "execute_result"
    }
   ],
   "source": [
    "# This will convert 200 minutes to hours by diving by 60.\n",
    "200 / 60"
   ]
  },
  {
   "cell_type": "markdown",
   "id": "fbfc5d06-5cc8-401f-a11a-b57759ecf5bf",
   "metadata": {},
   "source": [
    "**Objectives:**\n",
    "+ List popular languages for Data Science.\n",
    "  * python\n",
    "  * R\n",
    "  * C++"
   ]
  },
  {
   "cell_type": "markdown",
   "id": "da1d630e-5518-4aee-b507-735aa64669ee",
   "metadata": {},
   "source": [
    "## Author"
   ]
  },
  {
   "cell_type": "code",
   "execution_count": null,
   "id": "8a5e4914-06b4-46a7-b317-7f9f2996fd4f",
   "metadata": {},
   "outputs": [],
   "source": []
  }
 ],
 "metadata": {
  "kernelspec": {
   "display_name": "Python 3 (ipykernel)",
   "language": "python",
   "name": "python3"
  },
  "language_info": {
   "codemirror_mode": {
    "name": "ipython",
    "version": 3
   },
   "file_extension": ".py",
   "mimetype": "text/x-python",
   "name": "python",
   "nbconvert_exporter": "python",
   "pygments_lexer": "ipython3",
   "version": "3.11.5"
  }
 },
 "nbformat": 4,
 "nbformat_minor": 5
}
